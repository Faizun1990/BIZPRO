{
  "nbformat": 4,
  "nbformat_minor": 0,
  "metadata": {
    "colab": {
      "provenance": [],
      "authorship_tag": "ABX9TyP9q1ZIKqMheKhp222pYWIh",
      "include_colab_link": true
    },
    "kernelspec": {
      "name": "python3",
      "display_name": "Python 3"
    },
    "language_info": {
      "name": "python"
    }
  },
  "cells": [
    {
      "cell_type": "markdown",
      "metadata": {
        "id": "view-in-github",
        "colab_type": "text"
      },
      "source": [
        "<a href=\"https://colab.research.google.com/github/Faizun1990/BIZPRO/blob/main/bizpro.ipynb\" target=\"_parent\"><img src=\"https://colab.research.google.com/assets/colab-badge.svg\" alt=\"Open In Colab\"/></a>"
      ]
    },
    {
      "cell_type": "code",
      "execution_count": 1,
      "metadata": {
        "colab": {
          "base_uri": "https://localhost:8080/"
        },
        "id": "c6AaFMWCm7hL",
        "outputId": "1c8d0d90-4c28-4a01-9484-db065c4dbc30"
      },
      "outputs": [
        {
          "output_type": "stream",
          "name": "stdout",
          "text": [
            "Collecting streamlit\n",
            "  Downloading streamlit-1.30.0-py2.py3-none-any.whl (8.4 MB)\n",
            "\u001b[2K     \u001b[90m━━━━━━━━━━━━━━━━━━━━━━━━━━━━━━━━━━━━━━━━\u001b[0m \u001b[32m8.4/8.4 MB\u001b[0m \u001b[31m19.6 MB/s\u001b[0m eta \u001b[36m0:00:00\u001b[0m\n",
            "\u001b[?25hRequirement already satisfied: altair<6,>=4.0 in /usr/local/lib/python3.10/dist-packages (from streamlit) (4.2.2)\n",
            "Requirement already satisfied: blinker<2,>=1.0.0 in /usr/lib/python3/dist-packages (from streamlit) (1.4)\n",
            "Requirement already satisfied: cachetools<6,>=4.0 in /usr/local/lib/python3.10/dist-packages (from streamlit) (5.3.2)\n",
            "Requirement already satisfied: click<9,>=7.0 in /usr/local/lib/python3.10/dist-packages (from streamlit) (8.1.7)\n",
            "Requirement already satisfied: importlib-metadata<8,>=1.4 in /usr/local/lib/python3.10/dist-packages (from streamlit) (7.0.1)\n",
            "Requirement already satisfied: numpy<2,>=1.19.3 in /usr/local/lib/python3.10/dist-packages (from streamlit) (1.23.5)\n",
            "Requirement already satisfied: packaging<24,>=16.8 in /usr/local/lib/python3.10/dist-packages (from streamlit) (23.2)\n",
            "Requirement already satisfied: pandas<3,>=1.3.0 in /usr/local/lib/python3.10/dist-packages (from streamlit) (1.5.3)\n",
            "Requirement already satisfied: pillow<11,>=7.1.0 in /usr/local/lib/python3.10/dist-packages (from streamlit) (9.4.0)\n",
            "Requirement already satisfied: protobuf<5,>=3.20 in /usr/local/lib/python3.10/dist-packages (from streamlit) (3.20.3)\n",
            "Requirement already satisfied: pyarrow>=6.0 in /usr/local/lib/python3.10/dist-packages (from streamlit) (10.0.1)\n",
            "Requirement already satisfied: python-dateutil<3,>=2.7.3 in /usr/local/lib/python3.10/dist-packages (from streamlit) (2.8.2)\n",
            "Requirement already satisfied: requests<3,>=2.27 in /usr/local/lib/python3.10/dist-packages (from streamlit) (2.31.0)\n",
            "Requirement already satisfied: rich<14,>=10.14.0 in /usr/local/lib/python3.10/dist-packages (from streamlit) (13.7.0)\n",
            "Requirement already satisfied: tenacity<9,>=8.1.0 in /usr/local/lib/python3.10/dist-packages (from streamlit) (8.2.3)\n",
            "Requirement already satisfied: toml<2,>=0.10.1 in /usr/local/lib/python3.10/dist-packages (from streamlit) (0.10.2)\n",
            "Requirement already satisfied: typing-extensions<5,>=4.3.0 in /usr/local/lib/python3.10/dist-packages (from streamlit) (4.5.0)\n",
            "Requirement already satisfied: tzlocal<6,>=1.1 in /usr/local/lib/python3.10/dist-packages (from streamlit) (5.2)\n",
            "Collecting validators<1,>=0.2 (from streamlit)\n",
            "  Downloading validators-0.22.0-py3-none-any.whl (26 kB)\n",
            "Collecting gitpython!=3.1.19,<4,>=3.0.7 (from streamlit)\n",
            "  Downloading GitPython-3.1.41-py3-none-any.whl (196 kB)\n",
            "\u001b[2K     \u001b[90m━━━━━━━━━━━━━━━━━━━━━━━━━━━━━━━━━━━━━━━━\u001b[0m \u001b[32m196.4/196.4 kB\u001b[0m \u001b[31m14.0 MB/s\u001b[0m eta \u001b[36m0:00:00\u001b[0m\n",
            "\u001b[?25hCollecting pydeck<1,>=0.8.0b4 (from streamlit)\n",
            "  Downloading pydeck-0.8.1b0-py2.py3-none-any.whl (4.8 MB)\n",
            "\u001b[2K     \u001b[90m━━━━━━━━━━━━━━━━━━━━━━━━━━━━━━━━━━━━━━━━\u001b[0m \u001b[32m4.8/4.8 MB\u001b[0m \u001b[31m45.2 MB/s\u001b[0m eta \u001b[36m0:00:00\u001b[0m\n",
            "\u001b[?25hRequirement already satisfied: tornado<7,>=6.0.3 in /usr/local/lib/python3.10/dist-packages (from streamlit) (6.3.2)\n",
            "Collecting watchdog>=2.1.5 (from streamlit)\n",
            "  Downloading watchdog-3.0.0-py3-none-manylinux2014_x86_64.whl (82 kB)\n",
            "\u001b[2K     \u001b[90m━━━━━━━━━━━━━━━━━━━━━━━━━━━━━━━━━━━━━━━━\u001b[0m \u001b[32m82.1/82.1 kB\u001b[0m \u001b[31m5.1 MB/s\u001b[0m eta \u001b[36m0:00:00\u001b[0m\n",
            "\u001b[?25hRequirement already satisfied: entrypoints in /usr/local/lib/python3.10/dist-packages (from altair<6,>=4.0->streamlit) (0.4)\n",
            "Requirement already satisfied: jinja2 in /usr/local/lib/python3.10/dist-packages (from altair<6,>=4.0->streamlit) (3.1.3)\n",
            "Requirement already satisfied: jsonschema>=3.0 in /usr/local/lib/python3.10/dist-packages (from altair<6,>=4.0->streamlit) (4.19.2)\n",
            "Requirement already satisfied: toolz in /usr/local/lib/python3.10/dist-packages (from altair<6,>=4.0->streamlit) (0.12.0)\n",
            "Collecting gitdb<5,>=4.0.1 (from gitpython!=3.1.19,<4,>=3.0.7->streamlit)\n",
            "  Downloading gitdb-4.0.11-py3-none-any.whl (62 kB)\n",
            "\u001b[2K     \u001b[90m━━━━━━━━━━━━━━━━━━━━━━━━━━━━━━━━━━━━━━━━\u001b[0m \u001b[32m62.7/62.7 kB\u001b[0m \u001b[31m4.6 MB/s\u001b[0m eta \u001b[36m0:00:00\u001b[0m\n",
            "\u001b[?25hRequirement already satisfied: zipp>=0.5 in /usr/local/lib/python3.10/dist-packages (from importlib-metadata<8,>=1.4->streamlit) (3.17.0)\n",
            "Requirement already satisfied: pytz>=2020.1 in /usr/local/lib/python3.10/dist-packages (from pandas<3,>=1.3.0->streamlit) (2023.3.post1)\n",
            "Requirement already satisfied: six>=1.5 in /usr/local/lib/python3.10/dist-packages (from python-dateutil<3,>=2.7.3->streamlit) (1.16.0)\n",
            "Requirement already satisfied: charset-normalizer<4,>=2 in /usr/local/lib/python3.10/dist-packages (from requests<3,>=2.27->streamlit) (3.3.2)\n",
            "Requirement already satisfied: idna<4,>=2.5 in /usr/local/lib/python3.10/dist-packages (from requests<3,>=2.27->streamlit) (3.6)\n",
            "Requirement already satisfied: urllib3<3,>=1.21.1 in /usr/local/lib/python3.10/dist-packages (from requests<3,>=2.27->streamlit) (2.0.7)\n",
            "Requirement already satisfied: certifi>=2017.4.17 in /usr/local/lib/python3.10/dist-packages (from requests<3,>=2.27->streamlit) (2023.11.17)\n",
            "Requirement already satisfied: markdown-it-py>=2.2.0 in /usr/local/lib/python3.10/dist-packages (from rich<14,>=10.14.0->streamlit) (3.0.0)\n",
            "Requirement already satisfied: pygments<3.0.0,>=2.13.0 in /usr/local/lib/python3.10/dist-packages (from rich<14,>=10.14.0->streamlit) (2.16.1)\n",
            "Collecting smmap<6,>=3.0.1 (from gitdb<5,>=4.0.1->gitpython!=3.1.19,<4,>=3.0.7->streamlit)\n",
            "  Downloading smmap-5.0.1-py3-none-any.whl (24 kB)\n",
            "Requirement already satisfied: MarkupSafe>=2.0 in /usr/local/lib/python3.10/dist-packages (from jinja2->altair<6,>=4.0->streamlit) (2.1.4)\n",
            "Requirement already satisfied: attrs>=22.2.0 in /usr/local/lib/python3.10/dist-packages (from jsonschema>=3.0->altair<6,>=4.0->streamlit) (23.2.0)\n",
            "Requirement already satisfied: jsonschema-specifications>=2023.03.6 in /usr/local/lib/python3.10/dist-packages (from jsonschema>=3.0->altair<6,>=4.0->streamlit) (2023.12.1)\n",
            "Requirement already satisfied: referencing>=0.28.4 in /usr/local/lib/python3.10/dist-packages (from jsonschema>=3.0->altair<6,>=4.0->streamlit) (0.32.1)\n",
            "Requirement already satisfied: rpds-py>=0.7.1 in /usr/local/lib/python3.10/dist-packages (from jsonschema>=3.0->altair<6,>=4.0->streamlit) (0.17.1)\n",
            "Requirement already satisfied: mdurl~=0.1 in /usr/local/lib/python3.10/dist-packages (from markdown-it-py>=2.2.0->rich<14,>=10.14.0->streamlit) (0.1.2)\n",
            "Installing collected packages: watchdog, validators, smmap, pydeck, gitdb, gitpython, streamlit\n",
            "Successfully installed gitdb-4.0.11 gitpython-3.1.41 pydeck-0.8.1b0 smmap-5.0.1 streamlit-1.30.0 validators-0.22.0 watchdog-3.0.0\n"
          ]
        }
      ],
      "source": [
        "!pip install streamlit"
      ]
    },
    {
      "cell_type": "code",
      "source": [
        "!pip install pyngrok"
      ],
      "metadata": {
        "colab": {
          "base_uri": "https://localhost:8080/"
        },
        "id": "2yetunkSnDg_",
        "outputId": "35372987-0cd1-44e2-b30e-b26bcef302c3"
      },
      "execution_count": 2,
      "outputs": [
        {
          "output_type": "stream",
          "name": "stdout",
          "text": [
            "Collecting pyngrok\n",
            "  Downloading pyngrok-7.0.5-py3-none-any.whl (21 kB)\n",
            "Requirement already satisfied: PyYAML in /usr/local/lib/python3.10/dist-packages (from pyngrok) (6.0.1)\n",
            "Installing collected packages: pyngrok\n",
            "Successfully installed pyngrok-7.0.5\n"
          ]
        }
      ]
    },
    {
      "cell_type": "code",
      "source": [
        "%%writefile app.py\n",
        "import streamlit as st\n",
        "\n",
        "x = st.slider('Select a value')\n",
        "st.write(x, 'squared is', x * x)"
      ],
      "metadata": {
        "colab": {
          "base_uri": "https://localhost:8080/"
        },
        "id": "t3OmPnrCnMzw",
        "outputId": "f07dc7f1-48a2-4d24-f770-ce8ddc5965af"
      },
      "execution_count": 3,
      "outputs": [
        {
          "output_type": "stream",
          "name": "stdout",
          "text": [
            "Writing app.py\n"
          ]
        }
      ]
    },
    {
      "cell_type": "code",
      "source": [
        "!npm install localtunnel"
      ],
      "metadata": {
        "colab": {
          "base_uri": "https://localhost:8080/"
        },
        "id": "2QXy_GGJnioM",
        "outputId": "91fabcf0-43e9-458f-cdb3-fc452aafe175"
      },
      "execution_count": 4,
      "outputs": [
        {
          "output_type": "stream",
          "name": "stdout",
          "text": [
            "\u001b[K\u001b[?25h\u001b[37;40mnpm\u001b[0m \u001b[0m\u001b[30;43mWARN\u001b[0m \u001b[0m\u001b[35msaveError\u001b[0m ENOENT: no such file or directory, open '/content/package.json'\n",
            "\u001b[0m\u001b[37;40mnpm\u001b[0m \u001b[0m\u001b[34;40mnotice\u001b[0m\u001b[35m\u001b[0m created a lockfile as package-lock.json. You should commit this file.\n",
            "\u001b[0m\u001b[37;40mnpm\u001b[0m \u001b[0m\u001b[30;43mWARN\u001b[0m \u001b[0m\u001b[35menoent\u001b[0m ENOENT: no such file or directory, open '/content/package.json'\n",
            "\u001b[0m\u001b[37;40mnpm\u001b[0m \u001b[0m\u001b[30;43mWARN\u001b[0m\u001b[35m\u001b[0m content No description\n",
            "\u001b[0m\u001b[37;40mnpm\u001b[0m \u001b[0m\u001b[30;43mWARN\u001b[0m\u001b[35m\u001b[0m content No repository field.\n",
            "\u001b[0m\u001b[37;40mnpm\u001b[0m \u001b[0m\u001b[30;43mWARN\u001b[0m\u001b[35m\u001b[0m content No README data\n",
            "\u001b[0m\u001b[37;40mnpm\u001b[0m \u001b[0m\u001b[30;43mWARN\u001b[0m\u001b[35m\u001b[0m content No license field.\n",
            "\u001b[0m\n",
            "+ localtunnel@2.0.2\n",
            "added 22 packages from 22 contributors and audited 22 packages in 1.893s\n",
            "\n",
            "3 packages are looking for funding\n",
            "  run `npm fund` for details\n",
            "\n",
            "found 1 \u001b[93mmoderate\u001b[0m severity vulnerability\n",
            "  run `npm audit fix` to fix them, or `npm audit` for details\n",
            "\u001b[K\u001b[?25h"
          ]
        }
      ]
    },
    {
      "cell_type": "code",
      "source": [
        "!streamlit run /content/app.py &>/content/logs.txt & npx localtunnel --port 8501 & curl ipv4.icanhazip.com"
      ],
      "metadata": {
        "colab": {
          "base_uri": "https://localhost:8080/"
        },
        "id": "olXtAmtToLFV",
        "outputId": "6b3fe5ad-102e-4c1f-c7b6-4863047dedef"
      },
      "execution_count": 5,
      "outputs": [
        {
          "output_type": "stream",
          "name": "stdout",
          "text": [
            "34.168.203.175\n",
            "\u001b[K\u001b[?25hnpx: installed 22 in 3.514s\n",
            "your url is: https://spotty-pillows-fail.loca.lt\n"
          ]
        }
      ]
    },
    {
      "cell_type": "code",
      "source": [
        "!pip install easyocr"
      ],
      "metadata": {
        "colab": {
          "base_uri": "https://localhost:8080/"
        },
        "id": "VvPG7-I6pHUN",
        "outputId": "adaf4fd8-dbf9-49ed-f12a-2aa559a8d850"
      },
      "execution_count": 6,
      "outputs": [
        {
          "output_type": "stream",
          "name": "stdout",
          "text": [
            "Collecting easyocr\n",
            "  Downloading easyocr-1.7.1-py3-none-any.whl (2.9 MB)\n",
            "\u001b[2K     \u001b[90m━━━━━━━━━━━━━━━━━━━━━━━━━━━━━━━━━━━━━━━━\u001b[0m \u001b[32m2.9/2.9 MB\u001b[0m \u001b[31m17.1 MB/s\u001b[0m eta \u001b[36m0:00:00\u001b[0m\n",
            "\u001b[?25hRequirement already satisfied: torch in /usr/local/lib/python3.10/dist-packages (from easyocr) (2.1.0+cu121)\n",
            "Requirement already satisfied: torchvision>=0.5 in /usr/local/lib/python3.10/dist-packages (from easyocr) (0.16.0+cu121)\n",
            "Requirement already satisfied: opencv-python-headless in /usr/local/lib/python3.10/dist-packages (from easyocr) (4.9.0.80)\n",
            "Requirement already satisfied: scipy in /usr/local/lib/python3.10/dist-packages (from easyocr) (1.11.4)\n",
            "Requirement already satisfied: numpy in /usr/local/lib/python3.10/dist-packages (from easyocr) (1.23.5)\n",
            "Requirement already satisfied: Pillow in /usr/local/lib/python3.10/dist-packages (from easyocr) (9.4.0)\n",
            "Requirement already satisfied: scikit-image in /usr/local/lib/python3.10/dist-packages (from easyocr) (0.19.3)\n",
            "Collecting python-bidi (from easyocr)\n",
            "  Downloading python_bidi-0.4.2-py2.py3-none-any.whl (30 kB)\n",
            "Requirement already satisfied: PyYAML in /usr/local/lib/python3.10/dist-packages (from easyocr) (6.0.1)\n",
            "Requirement already satisfied: Shapely in /usr/local/lib/python3.10/dist-packages (from easyocr) (2.0.2)\n",
            "Collecting pyclipper (from easyocr)\n",
            "  Downloading pyclipper-1.3.0.post5-cp310-cp310-manylinux_2_12_x86_64.manylinux2010_x86_64.whl (908 kB)\n",
            "\u001b[2K     \u001b[90m━━━━━━━━━━━━━━━━━━━━━━━━━━━━━━━━━━━━━━━━\u001b[0m \u001b[32m908.3/908.3 kB\u001b[0m \u001b[31m24.7 MB/s\u001b[0m eta \u001b[36m0:00:00\u001b[0m\n",
            "\u001b[?25hCollecting ninja (from easyocr)\n",
            "  Downloading ninja-1.11.1.1-py2.py3-none-manylinux1_x86_64.manylinux_2_5_x86_64.whl (307 kB)\n",
            "\u001b[2K     \u001b[90m━━━━━━━━━━━━━━━━━━━━━━━━━━━━━━━━━━━━━━━━\u001b[0m \u001b[32m307.2/307.2 kB\u001b[0m \u001b[31m18.8 MB/s\u001b[0m eta \u001b[36m0:00:00\u001b[0m\n",
            "\u001b[?25hRequirement already satisfied: requests in /usr/local/lib/python3.10/dist-packages (from torchvision>=0.5->easyocr) (2.31.0)\n",
            "Requirement already satisfied: filelock in /usr/local/lib/python3.10/dist-packages (from torch->easyocr) (3.13.1)\n",
            "Requirement already satisfied: typing-extensions in /usr/local/lib/python3.10/dist-packages (from torch->easyocr) (4.5.0)\n",
            "Requirement already satisfied: sympy in /usr/local/lib/python3.10/dist-packages (from torch->easyocr) (1.12)\n",
            "Requirement already satisfied: networkx in /usr/local/lib/python3.10/dist-packages (from torch->easyocr) (3.2.1)\n",
            "Requirement already satisfied: jinja2 in /usr/local/lib/python3.10/dist-packages (from torch->easyocr) (3.1.3)\n",
            "Requirement already satisfied: fsspec in /usr/local/lib/python3.10/dist-packages (from torch->easyocr) (2023.6.0)\n",
            "Requirement already satisfied: triton==2.1.0 in /usr/local/lib/python3.10/dist-packages (from torch->easyocr) (2.1.0)\n",
            "Requirement already satisfied: six in /usr/local/lib/python3.10/dist-packages (from python-bidi->easyocr) (1.16.0)\n",
            "Requirement already satisfied: imageio>=2.4.1 in /usr/local/lib/python3.10/dist-packages (from scikit-image->easyocr) (2.31.6)\n",
            "Requirement already satisfied: tifffile>=2019.7.26 in /usr/local/lib/python3.10/dist-packages (from scikit-image->easyocr) (2023.12.9)\n",
            "Requirement already satisfied: PyWavelets>=1.1.1 in /usr/local/lib/python3.10/dist-packages (from scikit-image->easyocr) (1.5.0)\n",
            "Requirement already satisfied: packaging>=20.0 in /usr/local/lib/python3.10/dist-packages (from scikit-image->easyocr) (23.2)\n",
            "Requirement already satisfied: MarkupSafe>=2.0 in /usr/local/lib/python3.10/dist-packages (from jinja2->torch->easyocr) (2.1.4)\n",
            "Requirement already satisfied: charset-normalizer<4,>=2 in /usr/local/lib/python3.10/dist-packages (from requests->torchvision>=0.5->easyocr) (3.3.2)\n",
            "Requirement already satisfied: idna<4,>=2.5 in /usr/local/lib/python3.10/dist-packages (from requests->torchvision>=0.5->easyocr) (3.6)\n",
            "Requirement already satisfied: urllib3<3,>=1.21.1 in /usr/local/lib/python3.10/dist-packages (from requests->torchvision>=0.5->easyocr) (2.0.7)\n",
            "Requirement already satisfied: certifi>=2017.4.17 in /usr/local/lib/python3.10/dist-packages (from requests->torchvision>=0.5->easyocr) (2023.11.17)\n",
            "Requirement already satisfied: mpmath>=0.19 in /usr/local/lib/python3.10/dist-packages (from sympy->torch->easyocr) (1.3.0)\n",
            "Installing collected packages: pyclipper, ninja, python-bidi, easyocr\n",
            "Successfully installed easyocr-1.7.1 ninja-1.11.1.1 pyclipper-1.3.0.post5 python-bidi-0.4.2\n"
          ]
        }
      ]
    },
    {
      "cell_type": "code",
      "source": [
        "import easyocr\n",
        "reader = easyocr.Reader(['en'])"
      ],
      "metadata": {
        "colab": {
          "base_uri": "https://localhost:8080/"
        },
        "id": "QC2BUkPpp7oG",
        "outputId": "3e574bae-7db0-4230-f7c1-33b727b0fc77"
      },
      "execution_count": 7,
      "outputs": [
        {
          "output_type": "stream",
          "name": "stderr",
          "text": [
            "WARNING:easyocr.easyocr:Neither CUDA nor MPS are available - defaulting to CPU. Note: This module is much faster with a GPU.\n",
            "WARNING:easyocr.easyocr:Downloading detection model, please wait. This may take several minutes depending upon your network connection.\n"
          ]
        },
        {
          "output_type": "stream",
          "name": "stdout",
          "text": [
            "Progress: |██████████████████████████████████████████████████| 100.0% Complete"
          ]
        },
        {
          "output_type": "stream",
          "name": "stderr",
          "text": [
            "WARNING:easyocr.easyocr:Downloading recognition model, please wait. This may take several minutes depending upon your network connection.\n"
          ]
        },
        {
          "output_type": "stream",
          "name": "stdout",
          "text": [
            "Progress: |██████████████████████████████████████████████████| 100.0% Complete"
          ]
        }
      ]
    },
    {
      "cell_type": "code",
      "source": [
        "result1=reader.readtext('/content/1.png',paragraph = True)\n",
        "result2=reader.readtext('/content/2.png',paragraph = True)\n",
        "result3=reader.readtext('/content/3.png',paragraph = True)\n",
        "result4=reader.readtext('/content/4.png',paragraph = True)\n",
        "result5=reader.readtext('/content/5.png',paragraph = True)"
      ],
      "metadata": {
        "id": "qD24FdeY_cEY"
      },
      "execution_count": 8,
      "outputs": []
    },
    {
      "cell_type": "code",
      "source": [
        "result1\n"
      ],
      "metadata": {
        "colab": {
          "base_uri": "https://localhost:8080/"
        },
        "id": "ludW7_u0Hg6o",
        "outputId": "f3ba6156-8de0-45f7-eb8e-abbe464278a4"
      },
      "execution_count": 12,
      "outputs": [
        {
          "output_type": "execute_result",
          "data": {
            "text/plain": [
              "[[[[47, 113], [278, 113], [278, 190], [47, 190]], 'Selva DATA MANAGER'],\n",
              " [[[120, 224], [333, 224], [333, 294], [120, 294]],\n",
              "  '+123-456-7890 +123-456-7891'],\n",
              " [[[119, 318], [359, 318], [359, 391], [119, 391]],\n",
              "  'WWW XYZI.com hello@XYZ1.com'],\n",
              " [[[119, 410], [411, 410], [411, 481], [119, 481]],\n",
              "  '123 ABC St , Chennai; TamilNadu 600113'],\n",
              " [[[694, 388], [942, 388], [942, 565], [694, 565]], 'selva digitals']]"
            ]
          },
          "metadata": {},
          "execution_count": 12
        }
      ]
    },
    {
      "cell_type": "code",
      "source": [
        "result2"
      ],
      "metadata": {
        "colab": {
          "base_uri": "https://localhost:8080/"
        },
        "id": "OT0CwpmDH1RX",
        "outputId": "429f545d-0af9-4a24-99b5-a92f6041b8c7"
      },
      "execution_count": 13,
      "outputs": [
        {
          "output_type": "execute_result",
          "data": {
            "text/plain": [
              "[[[[125, 126], [402, 126], [402, 229], [125, 229]],\n",
              "  'Amit kumar CEO & FOUNDER'],\n",
              " [[[172, 278], [342, 278], [342, 310], [172, 310]], '123-456-7569'],\n",
              " [[[166, 331], [449, 331], [449, 504], [166, 504]],\n",
              "  'hello@global.com WWW global.com 123 global St , Erode, TamilNadu 600115'],\n",
              " [[[590, 410], [986, 410], [986, 573], [590, 573]], 'GLOBAL INSURANCE']]"
            ]
          },
          "metadata": {},
          "execution_count": 13
        }
      ]
    },
    {
      "cell_type": "code",
      "source": [
        "result3"
      ],
      "metadata": {
        "colab": {
          "base_uri": "https://localhost:8080/"
        },
        "id": "H7Yids3wH40-",
        "outputId": "829181fd-c65b-40f1-a13d-eaac13b30509"
      },
      "execution_count": 14,
      "outputs": [
        {
          "output_type": "execute_result",
          "data": {
            "text/plain": [
              "[[[[466, 62], [741, 62], [741, 156], [466, 156]], 'KARTHICK General Manager'],\n",
              " [[[574, 187], [814, 187], [814, 250], [574, 250]],\n",
              "  '123 ABC St , Salem, TamilNadu 6004513'],\n",
              " [[[564, 266], [768, 266], [768, 298], [564, 298]], '+123-456-7890'],\n",
              " [[[598, 318], [864, 318], [864, 350], [598, 350]], 'hello@Borcelle.com'],\n",
              " [[[598, 371], [847, 371], [847, 403], [598, 403]], 'www Borcelle.com'],\n",
              " [[[78, 446], [340, 446], [340, 561], [78, 561]], 'BORCELLE AIRLINES']]"
            ]
          },
          "metadata": {},
          "execution_count": 14
        }
      ]
    },
    {
      "cell_type": "code",
      "source": [
        "result4"
      ],
      "metadata": {
        "colab": {
          "base_uri": "https://localhost:8080/"
        },
        "id": "Cr-lWkDgH6uY",
        "outputId": "4b666f0a-e986-4df7-c226-b037b4ff00c0"
      },
      "execution_count": 15,
      "outputs": [
        {
          "output_type": "execute_result",
          "data": {
            "text/plain": [
              "[[[[626, 62], [1000, 62], [1000, 184], [626, 184]],\n",
              "  'REVANTH Marketing Executive'],\n",
              " [[[465, 287], [911, 287], [911, 397], [465, 397]],\n",
              "  '123 ABC St,, HYDRABAD, TamilNadu; 600001 +91-456-1234'],\n",
              " [[[503, 427], [883, 427], [883, 465], [503, 465]], 'hello@CHRISTMAS.com'],\n",
              " [[[26, 417], [392, 417], [392, 590], [26, 590]], 'Family Restaurant'],\n",
              " [[[525, 495], [885, 495], [885, 533], [525, 533]], 'wWW.CHRISTMAS.com']]"
            ]
          },
          "metadata": {},
          "execution_count": 15
        }
      ]
    },
    {
      "cell_type": "code",
      "source": [
        "result5"
      ],
      "metadata": {
        "colab": {
          "base_uri": "https://localhost:8080/"
        },
        "id": "VcclgOz6H8ju",
        "outputId": "724ac22d-287e-4733-b10b-b10789a25583"
      },
      "execution_count": 16,
      "outputs": [
        {
          "output_type": "execute_result",
          "data": {
            "text/plain": [
              "[[[[26, 87], [343, 87], [343, 198], [26, 198]], 'SANTHOSH Technical Manager'],\n",
              " [[[102, 259], [459, 259], [459, 348], [102, 348]],\n",
              "  '123 ABC St , Tirupur; TamilNadu, 641603 +123-456-1234'],\n",
              " [[[176, 368], [383, 368], [383, 454], [176, 454]],\n",
              "  'hello@Sun.com www.Suncom'],\n",
              " [[[506, 492], [1000, 492], [1000, 568], [506, 568]], 'Sun Electricals']]"
            ]
          },
          "metadata": {},
          "execution_count": 16
        }
      ]
    },
    {
      "cell_type": "code",
      "source": [
        "import sqlite3\n",
        "con = sqlite3.connect(\"bizcard.db\")"
      ],
      "metadata": {
        "id": "vaDJ10dQrM84"
      },
      "execution_count": 38,
      "outputs": []
    },
    {
      "cell_type": "code",
      "source": [
        "cur = con.cursor()"
      ],
      "metadata": {
        "id": "MF4uJEo9riA_"
      },
      "execution_count": 39,
      "outputs": []
    },
    {
      "cell_type": "code",
      "source": [
        "cur.execute(\"CREATE TABLE Biz(Name, Designation, Area, City, State, Pincode, Mobile No, Mail Id, Website, Company)\")"
      ],
      "metadata": {
        "colab": {
          "base_uri": "https://localhost:8080/"
        },
        "id": "svexr8T4J_Si",
        "outputId": "744ec484-2e19-4e93-e035-0915dc908469"
      },
      "execution_count": 42,
      "outputs": [
        {
          "output_type": "execute_result",
          "data": {
            "text/plain": [
              "<sqlite3.Cursor at 0x79bfb4f32740>"
            ]
          },
          "metadata": {},
          "execution_count": 42
        }
      ]
    },
    {
      "cell_type": "code",
      "source": [
        "res = cur.execute(\"SELECT name FROM sqlite_master\")\n",
        "res.fetchone()\n"
      ],
      "metadata": {
        "colab": {
          "base_uri": "https://localhost:8080/"
        },
        "id": "3ExuxYR2KF3L",
        "outputId": "dbea38a0-e925-4b95-d85b-42004f9af12c"
      },
      "execution_count": 43,
      "outputs": [
        {
          "output_type": "execute_result",
          "data": {
            "text/plain": [
              "('Biz',)"
            ]
          },
          "metadata": {},
          "execution_count": 43
        }
      ]
    },
    {
      "cell_type": "code",
      "source": [
        "cur.execute(\"\"\"\n",
        "    INSERT INTO Biz VALUES\n",
        "       ('Selva', 'DATA MANAGER','123 ABC St','Chennai','Tamil Nadu', '600113','+123-456-7890 +123-456-7891','hello@XYZ1.com','WWW.XYZI.com','selva digitals'),\n",
        "       ('Amit kumar', 'CEO & FOUNDER','123 global St','Erode','Tamil Nadu', '600115','123-456-7569','hello@global.com','WWW.global.com','GLOBAL INSURANCE'),\n",
        "       ('KARTHICK', 'General Manager','123 ABC St','Salem','Tamil Nadu', '6004513', '+123-456-7890','hello@Borcelle.com','www.Borcelle.com','BORCELLE AIRLINES'),\n",
        "       ('REVANTH', 'Marketing Executive','123 ABC St', 'HYDRABAD', 'Tamil Nadu', '600001', '+91-456-1234', 'hello@CHRISTMAS.com', 'wWW.CHRISTMAS.com', 'Family Restaurant'),\n",
        "       ('SANTHOSH ',  'Technical Manager', '123 ABC St', 'Tirupur', 'Tamil Nadu', '641603', '+123-456-1234', 'hello@Sun.com', 'www.Sun.com', 'Sun Electricals')\n",
        "\n",
        "  \"\"\")"
      ],
      "metadata": {
        "colab": {
          "base_uri": "https://localhost:8080/"
        },
        "id": "P91_RdNYKZaq",
        "outputId": "c40f47c2-e607-469a-b6a1-ddc21275955b"
      },
      "execution_count": 50,
      "outputs": [
        {
          "output_type": "execute_result",
          "data": {
            "text/plain": [
              "<sqlite3.Cursor at 0x79bfb4f32740>"
            ]
          },
          "metadata": {},
          "execution_count": 50
        }
      ]
    },
    {
      "cell_type": "code",
      "source": [
        "res = cur.execute(\"SELECT * FROM Biz\")\n",
        "res.fetchall()"
      ],
      "metadata": {
        "id": "lISKy75I7VZQ"
      },
      "execution_count": null,
      "outputs": []
    },
    {
      "cell_type": "code",
      "source": [
        "import pandas as pd\n",
        "pd.read_sql_query(\"SELECT * FROM Biz\",con=con)"
      ],
      "metadata": {
        "id": "y6K8vLXpaGWN",
        "colab": {
          "base_uri": "https://localhost:8080/",
          "height": 1000
        },
        "outputId": "07ee13ce-80bd-4c5c-d99b-3e7729cf9f82"
      },
      "execution_count": 52,
      "outputs": [
        {
          "output_type": "execute_result",
          "data": {
            "text/plain": [
              "          Name          Designation           Area      City       State  \\\n",
              "0        Selva         DATA MANAGER     123 ABC St   Chennai  Tamil Nadu   \n",
              "1        Selva         DATA MANAGER     123 ABC St   Chennai  Tamil Nadu   \n",
              "2   Amit kumar        CEO & FOUNDER  123 global St     Erode  Tamil Nadu   \n",
              "3        Selva         DATA MANAGER     123 ABC St   Chennai  Tamil Nadu   \n",
              "4   Amit kumar        CEO & FOUNDER  123 global St     Erode  Tamil Nadu   \n",
              "5     KARTHICK      General Manager     123 ABC St     Salem  Tamil Nadu   \n",
              "6        Selva         DATA MANAGER     123 ABC St   Chennai  Tamil Nadu   \n",
              "7   Amit kumar        CEO & FOUNDER  123 global St     Erode  Tamil Nadu   \n",
              "8     KARTHICK      General Manager     123 ABC St     Salem  Tamil Nadu   \n",
              "9      REVANTH  Marketing Executive     123 ABC St  HYDRABAD  Tamil Nadu   \n",
              "10       Selva         DATA MANAGER     123 ABC St   Chennai  Tamil Nadu   \n",
              "11  Amit kumar        CEO & FOUNDER  123 global St     Erode  Tamil Nadu   \n",
              "12    KARTHICK      General Manager     123 ABC St     Salem  Tamil Nadu   \n",
              "13     REVANTH  Marketing Executive     123 ABC St  HYDRABAD  Tamil Nadu   \n",
              "14   SANTHOSH     Technical Manager     123 ABC St   Tirupur  Tamil Nadu   \n",
              "\n",
              "    Pincode                       Mobile                 Mail  \\\n",
              "0    600113  +123-456-7890 +123-456-7891       hello@XYZ1.com   \n",
              "1    600113  +123-456-7890 +123-456-7891       hello@XYZ1.com   \n",
              "2    600115                 123-456-7569     hello@global.com   \n",
              "3    600113  +123-456-7890 +123-456-7891       hello@XYZ1.com   \n",
              "4    600115                 123-456-7569     hello@global.com   \n",
              "5   6004513                +123-456-7890   hello@Borcelle.com   \n",
              "6    600113  +123-456-7890 +123-456-7891       hello@XYZ1.com   \n",
              "7    600115                 123-456-7569     hello@global.com   \n",
              "8   6004513                +123-456-7890   hello@Borcelle.com   \n",
              "9    600001                 +91-456-1234  hello@CHRISTMAS.com   \n",
              "10   600113  +123-456-7890 +123-456-7891       hello@XYZ1.com   \n",
              "11   600115                 123-456-7569     hello@global.com   \n",
              "12  6004513                +123-456-7890   hello@Borcelle.com   \n",
              "13   600001                 +91-456-1234  hello@CHRISTMAS.com   \n",
              "14   641603                +123-456-1234        hello@Sun.com   \n",
              "\n",
              "              Website            Company  \n",
              "0        WWW XYZI.com     selva digitals  \n",
              "1        WWW XYZI.com     selva digitals  \n",
              "2      WWW global.com   GLOBAL INSURANCE  \n",
              "3        WWW XYZI.com     selva digitals  \n",
              "4      WWW global.com   GLOBAL INSURANCE  \n",
              "5    www Borcelle.com  BORCELLE AIRLINES  \n",
              "6        WWW XYZI.com     selva digitals  \n",
              "7      WWW global.com   GLOBAL INSURANCE  \n",
              "8    www Borcelle.com  BORCELLE AIRLINES  \n",
              "9   wWW.CHRISTMAS.com  Family Restaurant  \n",
              "10       WWW.XYZI.com     selva digitals  \n",
              "11     WWW.global.com   GLOBAL INSURANCE  \n",
              "12   www.Borcelle.com  BORCELLE AIRLINES  \n",
              "13  wWW.CHRISTMAS.com  Family Restaurant  \n",
              "14        www.Sun.com    Sun Electricals  "
            ],
            "text/html": [
              "\n",
              "  <div id=\"df-8292c4e0-cfc2-4ea2-879c-a9cbf7da8631\" class=\"colab-df-container\">\n",
              "    <div>\n",
              "<style scoped>\n",
              "    .dataframe tbody tr th:only-of-type {\n",
              "        vertical-align: middle;\n",
              "    }\n",
              "\n",
              "    .dataframe tbody tr th {\n",
              "        vertical-align: top;\n",
              "    }\n",
              "\n",
              "    .dataframe thead th {\n",
              "        text-align: right;\n",
              "    }\n",
              "</style>\n",
              "<table border=\"1\" class=\"dataframe\">\n",
              "  <thead>\n",
              "    <tr style=\"text-align: right;\">\n",
              "      <th></th>\n",
              "      <th>Name</th>\n",
              "      <th>Designation</th>\n",
              "      <th>Area</th>\n",
              "      <th>City</th>\n",
              "      <th>State</th>\n",
              "      <th>Pincode</th>\n",
              "      <th>Mobile</th>\n",
              "      <th>Mail</th>\n",
              "      <th>Website</th>\n",
              "      <th>Company</th>\n",
              "    </tr>\n",
              "  </thead>\n",
              "  <tbody>\n",
              "    <tr>\n",
              "      <th>0</th>\n",
              "      <td>Selva</td>\n",
              "      <td>DATA MANAGER</td>\n",
              "      <td>123 ABC St</td>\n",
              "      <td>Chennai</td>\n",
              "      <td>Tamil Nadu</td>\n",
              "      <td>600113</td>\n",
              "      <td>+123-456-7890 +123-456-7891</td>\n",
              "      <td>hello@XYZ1.com</td>\n",
              "      <td>WWW XYZI.com</td>\n",
              "      <td>selva digitals</td>\n",
              "    </tr>\n",
              "    <tr>\n",
              "      <th>1</th>\n",
              "      <td>Selva</td>\n",
              "      <td>DATA MANAGER</td>\n",
              "      <td>123 ABC St</td>\n",
              "      <td>Chennai</td>\n",
              "      <td>Tamil Nadu</td>\n",
              "      <td>600113</td>\n",
              "      <td>+123-456-7890 +123-456-7891</td>\n",
              "      <td>hello@XYZ1.com</td>\n",
              "      <td>WWW XYZI.com</td>\n",
              "      <td>selva digitals</td>\n",
              "    </tr>\n",
              "    <tr>\n",
              "      <th>2</th>\n",
              "      <td>Amit kumar</td>\n",
              "      <td>CEO &amp; FOUNDER</td>\n",
              "      <td>123 global St</td>\n",
              "      <td>Erode</td>\n",
              "      <td>Tamil Nadu</td>\n",
              "      <td>600115</td>\n",
              "      <td>123-456-7569</td>\n",
              "      <td>hello@global.com</td>\n",
              "      <td>WWW global.com</td>\n",
              "      <td>GLOBAL INSURANCE</td>\n",
              "    </tr>\n",
              "    <tr>\n",
              "      <th>3</th>\n",
              "      <td>Selva</td>\n",
              "      <td>DATA MANAGER</td>\n",
              "      <td>123 ABC St</td>\n",
              "      <td>Chennai</td>\n",
              "      <td>Tamil Nadu</td>\n",
              "      <td>600113</td>\n",
              "      <td>+123-456-7890 +123-456-7891</td>\n",
              "      <td>hello@XYZ1.com</td>\n",
              "      <td>WWW XYZI.com</td>\n",
              "      <td>selva digitals</td>\n",
              "    </tr>\n",
              "    <tr>\n",
              "      <th>4</th>\n",
              "      <td>Amit kumar</td>\n",
              "      <td>CEO &amp; FOUNDER</td>\n",
              "      <td>123 global St</td>\n",
              "      <td>Erode</td>\n",
              "      <td>Tamil Nadu</td>\n",
              "      <td>600115</td>\n",
              "      <td>123-456-7569</td>\n",
              "      <td>hello@global.com</td>\n",
              "      <td>WWW global.com</td>\n",
              "      <td>GLOBAL INSURANCE</td>\n",
              "    </tr>\n",
              "    <tr>\n",
              "      <th>5</th>\n",
              "      <td>KARTHICK</td>\n",
              "      <td>General Manager</td>\n",
              "      <td>123 ABC St</td>\n",
              "      <td>Salem</td>\n",
              "      <td>Tamil Nadu</td>\n",
              "      <td>6004513</td>\n",
              "      <td>+123-456-7890</td>\n",
              "      <td>hello@Borcelle.com</td>\n",
              "      <td>www Borcelle.com</td>\n",
              "      <td>BORCELLE AIRLINES</td>\n",
              "    </tr>\n",
              "    <tr>\n",
              "      <th>6</th>\n",
              "      <td>Selva</td>\n",
              "      <td>DATA MANAGER</td>\n",
              "      <td>123 ABC St</td>\n",
              "      <td>Chennai</td>\n",
              "      <td>Tamil Nadu</td>\n",
              "      <td>600113</td>\n",
              "      <td>+123-456-7890 +123-456-7891</td>\n",
              "      <td>hello@XYZ1.com</td>\n",
              "      <td>WWW XYZI.com</td>\n",
              "      <td>selva digitals</td>\n",
              "    </tr>\n",
              "    <tr>\n",
              "      <th>7</th>\n",
              "      <td>Amit kumar</td>\n",
              "      <td>CEO &amp; FOUNDER</td>\n",
              "      <td>123 global St</td>\n",
              "      <td>Erode</td>\n",
              "      <td>Tamil Nadu</td>\n",
              "      <td>600115</td>\n",
              "      <td>123-456-7569</td>\n",
              "      <td>hello@global.com</td>\n",
              "      <td>WWW global.com</td>\n",
              "      <td>GLOBAL INSURANCE</td>\n",
              "    </tr>\n",
              "    <tr>\n",
              "      <th>8</th>\n",
              "      <td>KARTHICK</td>\n",
              "      <td>General Manager</td>\n",
              "      <td>123 ABC St</td>\n",
              "      <td>Salem</td>\n",
              "      <td>Tamil Nadu</td>\n",
              "      <td>6004513</td>\n",
              "      <td>+123-456-7890</td>\n",
              "      <td>hello@Borcelle.com</td>\n",
              "      <td>www Borcelle.com</td>\n",
              "      <td>BORCELLE AIRLINES</td>\n",
              "    </tr>\n",
              "    <tr>\n",
              "      <th>9</th>\n",
              "      <td>REVANTH</td>\n",
              "      <td>Marketing Executive</td>\n",
              "      <td>123 ABC St</td>\n",
              "      <td>HYDRABAD</td>\n",
              "      <td>Tamil Nadu</td>\n",
              "      <td>600001</td>\n",
              "      <td>+91-456-1234</td>\n",
              "      <td>hello@CHRISTMAS.com</td>\n",
              "      <td>wWW.CHRISTMAS.com</td>\n",
              "      <td>Family Restaurant</td>\n",
              "    </tr>\n",
              "    <tr>\n",
              "      <th>10</th>\n",
              "      <td>Selva</td>\n",
              "      <td>DATA MANAGER</td>\n",
              "      <td>123 ABC St</td>\n",
              "      <td>Chennai</td>\n",
              "      <td>Tamil Nadu</td>\n",
              "      <td>600113</td>\n",
              "      <td>+123-456-7890 +123-456-7891</td>\n",
              "      <td>hello@XYZ1.com</td>\n",
              "      <td>WWW.XYZI.com</td>\n",
              "      <td>selva digitals</td>\n",
              "    </tr>\n",
              "    <tr>\n",
              "      <th>11</th>\n",
              "      <td>Amit kumar</td>\n",
              "      <td>CEO &amp; FOUNDER</td>\n",
              "      <td>123 global St</td>\n",
              "      <td>Erode</td>\n",
              "      <td>Tamil Nadu</td>\n",
              "      <td>600115</td>\n",
              "      <td>123-456-7569</td>\n",
              "      <td>hello@global.com</td>\n",
              "      <td>WWW.global.com</td>\n",
              "      <td>GLOBAL INSURANCE</td>\n",
              "    </tr>\n",
              "    <tr>\n",
              "      <th>12</th>\n",
              "      <td>KARTHICK</td>\n",
              "      <td>General Manager</td>\n",
              "      <td>123 ABC St</td>\n",
              "      <td>Salem</td>\n",
              "      <td>Tamil Nadu</td>\n",
              "      <td>6004513</td>\n",
              "      <td>+123-456-7890</td>\n",
              "      <td>hello@Borcelle.com</td>\n",
              "      <td>www.Borcelle.com</td>\n",
              "      <td>BORCELLE AIRLINES</td>\n",
              "    </tr>\n",
              "    <tr>\n",
              "      <th>13</th>\n",
              "      <td>REVANTH</td>\n",
              "      <td>Marketing Executive</td>\n",
              "      <td>123 ABC St</td>\n",
              "      <td>HYDRABAD</td>\n",
              "      <td>Tamil Nadu</td>\n",
              "      <td>600001</td>\n",
              "      <td>+91-456-1234</td>\n",
              "      <td>hello@CHRISTMAS.com</td>\n",
              "      <td>wWW.CHRISTMAS.com</td>\n",
              "      <td>Family Restaurant</td>\n",
              "    </tr>\n",
              "    <tr>\n",
              "      <th>14</th>\n",
              "      <td>SANTHOSH</td>\n",
              "      <td>Technical Manager</td>\n",
              "      <td>123 ABC St</td>\n",
              "      <td>Tirupur</td>\n",
              "      <td>Tamil Nadu</td>\n",
              "      <td>641603</td>\n",
              "      <td>+123-456-1234</td>\n",
              "      <td>hello@Sun.com</td>\n",
              "      <td>www.Sun.com</td>\n",
              "      <td>Sun Electricals</td>\n",
              "    </tr>\n",
              "  </tbody>\n",
              "</table>\n",
              "</div>\n",
              "    <div class=\"colab-df-buttons\">\n",
              "\n",
              "  <div class=\"colab-df-container\">\n",
              "    <button class=\"colab-df-convert\" onclick=\"convertToInteractive('df-8292c4e0-cfc2-4ea2-879c-a9cbf7da8631')\"\n",
              "            title=\"Convert this dataframe to an interactive table.\"\n",
              "            style=\"display:none;\">\n",
              "\n",
              "  <svg xmlns=\"http://www.w3.org/2000/svg\" height=\"24px\" viewBox=\"0 -960 960 960\">\n",
              "    <path d=\"M120-120v-720h720v720H120Zm60-500h600v-160H180v160Zm220 220h160v-160H400v160Zm0 220h160v-160H400v160ZM180-400h160v-160H180v160Zm440 0h160v-160H620v160ZM180-180h160v-160H180v160Zm440 0h160v-160H620v160Z\"/>\n",
              "  </svg>\n",
              "    </button>\n",
              "\n",
              "  <style>\n",
              "    .colab-df-container {\n",
              "      display:flex;\n",
              "      gap: 12px;\n",
              "    }\n",
              "\n",
              "    .colab-df-convert {\n",
              "      background-color: #E8F0FE;\n",
              "      border: none;\n",
              "      border-radius: 50%;\n",
              "      cursor: pointer;\n",
              "      display: none;\n",
              "      fill: #1967D2;\n",
              "      height: 32px;\n",
              "      padding: 0 0 0 0;\n",
              "      width: 32px;\n",
              "    }\n",
              "\n",
              "    .colab-df-convert:hover {\n",
              "      background-color: #E2EBFA;\n",
              "      box-shadow: 0px 1px 2px rgba(60, 64, 67, 0.3), 0px 1px 3px 1px rgba(60, 64, 67, 0.15);\n",
              "      fill: #174EA6;\n",
              "    }\n",
              "\n",
              "    .colab-df-buttons div {\n",
              "      margin-bottom: 4px;\n",
              "    }\n",
              "\n",
              "    [theme=dark] .colab-df-convert {\n",
              "      background-color: #3B4455;\n",
              "      fill: #D2E3FC;\n",
              "    }\n",
              "\n",
              "    [theme=dark] .colab-df-convert:hover {\n",
              "      background-color: #434B5C;\n",
              "      box-shadow: 0px 1px 3px 1px rgba(0, 0, 0, 0.15);\n",
              "      filter: drop-shadow(0px 1px 2px rgba(0, 0, 0, 0.3));\n",
              "      fill: #FFFFFF;\n",
              "    }\n",
              "  </style>\n",
              "\n",
              "    <script>\n",
              "      const buttonEl =\n",
              "        document.querySelector('#df-8292c4e0-cfc2-4ea2-879c-a9cbf7da8631 button.colab-df-convert');\n",
              "      buttonEl.style.display =\n",
              "        google.colab.kernel.accessAllowed ? 'block' : 'none';\n",
              "\n",
              "      async function convertToInteractive(key) {\n",
              "        const element = document.querySelector('#df-8292c4e0-cfc2-4ea2-879c-a9cbf7da8631');\n",
              "        const dataTable =\n",
              "          await google.colab.kernel.invokeFunction('convertToInteractive',\n",
              "                                                    [key], {});\n",
              "        if (!dataTable) return;\n",
              "\n",
              "        const docLinkHtml = 'Like what you see? Visit the ' +\n",
              "          '<a target=\"_blank\" href=https://colab.research.google.com/notebooks/data_table.ipynb>data table notebook</a>'\n",
              "          + ' to learn more about interactive tables.';\n",
              "        element.innerHTML = '';\n",
              "        dataTable['output_type'] = 'display_data';\n",
              "        await google.colab.output.renderOutput(dataTable, element);\n",
              "        const docLink = document.createElement('div');\n",
              "        docLink.innerHTML = docLinkHtml;\n",
              "        element.appendChild(docLink);\n",
              "      }\n",
              "    </script>\n",
              "  </div>\n",
              "\n",
              "\n",
              "<div id=\"df-918bdc5b-a1d6-4687-8ea0-3be3ea0a0c39\">\n",
              "  <button class=\"colab-df-quickchart\" onclick=\"quickchart('df-918bdc5b-a1d6-4687-8ea0-3be3ea0a0c39')\"\n",
              "            title=\"Suggest charts\"\n",
              "            style=\"display:none;\">\n",
              "\n",
              "<svg xmlns=\"http://www.w3.org/2000/svg\" height=\"24px\"viewBox=\"0 0 24 24\"\n",
              "     width=\"24px\">\n",
              "    <g>\n",
              "        <path d=\"M19 3H5c-1.1 0-2 .9-2 2v14c0 1.1.9 2 2 2h14c1.1 0 2-.9 2-2V5c0-1.1-.9-2-2-2zM9 17H7v-7h2v7zm4 0h-2V7h2v10zm4 0h-2v-4h2v4z\"/>\n",
              "    </g>\n",
              "</svg>\n",
              "  </button>\n",
              "\n",
              "<style>\n",
              "  .colab-df-quickchart {\n",
              "      --bg-color: #E8F0FE;\n",
              "      --fill-color: #1967D2;\n",
              "      --hover-bg-color: #E2EBFA;\n",
              "      --hover-fill-color: #174EA6;\n",
              "      --disabled-fill-color: #AAA;\n",
              "      --disabled-bg-color: #DDD;\n",
              "  }\n",
              "\n",
              "  [theme=dark] .colab-df-quickchart {\n",
              "      --bg-color: #3B4455;\n",
              "      --fill-color: #D2E3FC;\n",
              "      --hover-bg-color: #434B5C;\n",
              "      --hover-fill-color: #FFFFFF;\n",
              "      --disabled-bg-color: #3B4455;\n",
              "      --disabled-fill-color: #666;\n",
              "  }\n",
              "\n",
              "  .colab-df-quickchart {\n",
              "    background-color: var(--bg-color);\n",
              "    border: none;\n",
              "    border-radius: 50%;\n",
              "    cursor: pointer;\n",
              "    display: none;\n",
              "    fill: var(--fill-color);\n",
              "    height: 32px;\n",
              "    padding: 0;\n",
              "    width: 32px;\n",
              "  }\n",
              "\n",
              "  .colab-df-quickchart:hover {\n",
              "    background-color: var(--hover-bg-color);\n",
              "    box-shadow: 0 1px 2px rgba(60, 64, 67, 0.3), 0 1px 3px 1px rgba(60, 64, 67, 0.15);\n",
              "    fill: var(--button-hover-fill-color);\n",
              "  }\n",
              "\n",
              "  .colab-df-quickchart-complete:disabled,\n",
              "  .colab-df-quickchart-complete:disabled:hover {\n",
              "    background-color: var(--disabled-bg-color);\n",
              "    fill: var(--disabled-fill-color);\n",
              "    box-shadow: none;\n",
              "  }\n",
              "\n",
              "  .colab-df-spinner {\n",
              "    border: 2px solid var(--fill-color);\n",
              "    border-color: transparent;\n",
              "    border-bottom-color: var(--fill-color);\n",
              "    animation:\n",
              "      spin 1s steps(1) infinite;\n",
              "  }\n",
              "\n",
              "  @keyframes spin {\n",
              "    0% {\n",
              "      border-color: transparent;\n",
              "      border-bottom-color: var(--fill-color);\n",
              "      border-left-color: var(--fill-color);\n",
              "    }\n",
              "    20% {\n",
              "      border-color: transparent;\n",
              "      border-left-color: var(--fill-color);\n",
              "      border-top-color: var(--fill-color);\n",
              "    }\n",
              "    30% {\n",
              "      border-color: transparent;\n",
              "      border-left-color: var(--fill-color);\n",
              "      border-top-color: var(--fill-color);\n",
              "      border-right-color: var(--fill-color);\n",
              "    }\n",
              "    40% {\n",
              "      border-color: transparent;\n",
              "      border-right-color: var(--fill-color);\n",
              "      border-top-color: var(--fill-color);\n",
              "    }\n",
              "    60% {\n",
              "      border-color: transparent;\n",
              "      border-right-color: var(--fill-color);\n",
              "    }\n",
              "    80% {\n",
              "      border-color: transparent;\n",
              "      border-right-color: var(--fill-color);\n",
              "      border-bottom-color: var(--fill-color);\n",
              "    }\n",
              "    90% {\n",
              "      border-color: transparent;\n",
              "      border-bottom-color: var(--fill-color);\n",
              "    }\n",
              "  }\n",
              "</style>\n",
              "\n",
              "  <script>\n",
              "    async function quickchart(key) {\n",
              "      const quickchartButtonEl =\n",
              "        document.querySelector('#' + key + ' button');\n",
              "      quickchartButtonEl.disabled = true;  // To prevent multiple clicks.\n",
              "      quickchartButtonEl.classList.add('colab-df-spinner');\n",
              "      try {\n",
              "        const charts = await google.colab.kernel.invokeFunction(\n",
              "            'suggestCharts', [key], {});\n",
              "      } catch (error) {\n",
              "        console.error('Error during call to suggestCharts:', error);\n",
              "      }\n",
              "      quickchartButtonEl.classList.remove('colab-df-spinner');\n",
              "      quickchartButtonEl.classList.add('colab-df-quickchart-complete');\n",
              "    }\n",
              "    (() => {\n",
              "      let quickchartButtonEl =\n",
              "        document.querySelector('#df-918bdc5b-a1d6-4687-8ea0-3be3ea0a0c39 button');\n",
              "      quickchartButtonEl.style.display =\n",
              "        google.colab.kernel.accessAllowed ? 'block' : 'none';\n",
              "    })();\n",
              "  </script>\n",
              "</div>\n",
              "\n",
              "    </div>\n",
              "  </div>\n"
            ]
          },
          "metadata": {},
          "execution_count": 52
        }
      ]
    },
    {
      "cell_type": "code",
      "source": [
        "con.commit()"
      ],
      "metadata": {
        "id": "DiBEixTesjG2"
      },
      "execution_count": 40,
      "outputs": []
    }
  ]
}